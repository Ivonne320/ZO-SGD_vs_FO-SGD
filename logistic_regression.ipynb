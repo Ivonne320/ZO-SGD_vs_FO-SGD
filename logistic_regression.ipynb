{
 "cells": [
  {
   "cell_type": "code",
   "execution_count": 1,
   "id": "d9431a66",
   "metadata": {},
   "outputs": [],
   "source": [
    "import torch\n",
    "import torch.nn as nn\n",
    "import torch.optim as optim\n",
    "from sklearn.model_selection import train_test_split\n",
    "\n",
    "from fo_sgd import *\n",
    "from fo_sign_sgd import *\n",
    "from zo_sgd import *\n",
    "from zo_sign_sgd import *"
   ]
  },
  {
   "cell_type": "code",
   "execution_count": 5,
   "id": "de621a18",
   "metadata": {},
   "outputs": [
    {
     "name": "stdout",
     "output_type": "stream",
     "text": [
      "Epoch [10/100], Loss: 0.692912220954895\n",
      "Epoch [20/100], Loss: 0.692912220954895\n",
      "Epoch [30/100], Loss: 0.692912220954895\n",
      "Epoch [40/100], Loss: 0.692912220954895\n",
      "Epoch [50/100], Loss: 0.692912220954895\n",
      "Epoch [60/100], Loss: 0.692912220954895\n",
      "Epoch [70/100], Loss: 0.692912220954895\n",
      "Epoch [80/100], Loss: 0.692912220954895\n",
      "Epoch [90/100], Loss: 0.692912220954895\n",
      "Epoch [100/100], Loss: 0.692912220954895\n",
      "Test Accuracy: 0.51\n"
     ]
    }
   ],
   "source": [
    "# Generate random data for binary classification\n",
    "num_samples = 1000\n",
    "num_features = 10\n",
    "\n",
    "# Generate random features\n",
    "X = torch.randn(num_samples, num_features)\n",
    "\n",
    "# Generate random labels (0 or 1)\n",
    "y = torch.randint(0, 2, (num_samples,))\n",
    "\n",
    "# Split the data into training and testing sets\n",
    "X_train, X_test, y_train, y_test = train_test_split(X, y, test_size=0.2, random_state=42)\n",
    "\n",
    "# Define the logistic regression model\n",
    "class LogisticRegression(nn.Module):\n",
    "    def __init__(self, num_features):\n",
    "        super().__init__()\n",
    "        self.linear = nn.Linear(num_features, 1)\n",
    "        self.sigmoid = nn.Sigmoid()\n",
    "\n",
    "    def forward(self, X):\n",
    "        out = self.linear(X)\n",
    "        out = self.sigmoid(out)\n",
    "        return out\n",
    "\n",
    "# Create an instance of the logistic regression model\n",
    "model = LogisticRegression(num_features)\n",
    "\n",
    "# Define the loss function and optimizer\n",
    "criterion = nn.BCELoss()\n",
    "optimizer = ... # your optimizer here\n",
    "# optimizer = FirstOrderSGD(model.parameters(), lr=0.1)\n",
    "# optimizer = FirstOrderSignSGD(model.parameters(), lr=0.1)\n",
    "# optimizer = optim.SGD(model.parameters(), lr=0.1) # pytorch SGD optimizer\n",
    "\n",
    "# Training loop\n",
    "num_epochs = 100\n",
    "for epoch in range(num_epochs):\n",
    "    # Forward pass\n",
    "    outputs = model(X_train)\n",
    "    loss = criterion(outputs.squeeze(), y_train.float())\n",
    "\n",
    "    # Backward pass and optimization step\n",
    "    optimizer.zero_grad()\n",
    "    loss.backward()\n",
    "    y_train = y_train.unsqueeze(1)\n",
    "    optimizer.step()\n",
    "    y_train = y_train.squeeze()\n",
    "\n",
    "    # Print the loss every few epochs\n",
    "    if (epoch+1) % 10 == 0:\n",
    "        print(f'Epoch [{epoch+1}/{num_epochs}], Loss: {loss.item()}')\n",
    "\n",
    "# Evaluate the model on the test set\n",
    "with torch.no_grad():\n",
    "    outputs = model(X_test)\n",
    "    predicted = (outputs >= 0.5).squeeze().int()\n",
    "    accuracy = (predicted == y_test).sum().item() / y_test.size(0)\n",
    "    print(f'Test Accuracy: {accuracy}')"
   ]
  },
  {
   "cell_type": "code",
   "execution_count": null,
   "id": "58bfd980",
   "metadata": {},
   "outputs": [],
   "source": []
  },
  {
   "cell_type": "code",
   "execution_count": null,
   "id": "4e0a2412",
   "metadata": {},
   "outputs": [],
   "source": []
  }
 ],
 "metadata": {
  "kernelspec": {
   "display_name": "Python 3 (ipykernel)",
   "language": "python",
   "name": "python3"
  },
  "language_info": {
   "codemirror_mode": {
    "name": "ipython",
    "version": 3
   },
   "file_extension": ".py",
   "mimetype": "text/x-python",
   "name": "python",
   "nbconvert_exporter": "python",
   "pygments_lexer": "ipython3",
   "version": "3.9.16"
  }
 },
 "nbformat": 4,
 "nbformat_minor": 5
}
