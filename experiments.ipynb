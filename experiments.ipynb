{
 "cells": [
  {
   "cell_type": "code",
   "execution_count": null,
   "id": "526c1872",
   "metadata": {
    "scrolled": true
   },
   "outputs": [],
   "source": [
    "from train import *"
   ]
  },
  {
   "cell_type": "code",
   "execution_count": null,
   "id": "93795251",
   "metadata": {
    "scrolled": true
   },
   "outputs": [],
   "source": [
    "# An example of experiment configuration\n",
    "\n",
    "config = {\n",
    "    \"seed\": 42,\n",
    "    \"model\": \"mynet\",\n",
    "    \"num_epochs\": 100,\n",
    "    \"batch_size_train\": 64,\n",
    "    \"batch_size_test\": 1000,\n",
    "    \"optimizer\": \"zo_sgd\",\n",
    "    \"learning_rate\": 2e-3,\n",
    "    \"momentum\": 0,\n",
    "    \"dampening\": 0,\n",
    "    \"fd_eps\": 1e-2,\n",
    "    \"use_true_grad\": False,\n",
    "    \"scheduler\": False,\n",
    "    \"decay_at_epochs\": [50],\n",
    "    \"decay_with_factor\": 10\n",
    "}"
   ]
  },
  {
   "cell_type": "code",
   "execution_count": null,
   "id": "3d15d231",
   "metadata": {
    "scrolled": true
   },
   "outputs": [],
   "source": [
    "main(config)"
   ]
  },
  {
   "cell_type": "markdown",
   "id": "121b3355",
   "metadata": {},
   "source": [
    "# Grid search"
   ]
  },
  {
   "cell_type": "code",
   "execution_count": null,
   "id": "2fd4091f",
   "metadata": {
    "scrolled": true
   },
   "outputs": [],
   "source": [
    "config = {\n",
    "    \"seed\": 42,\n",
    "    \"model\": \"mynet\",\n",
    "    \"num_epochs\": 1,\n",
    "    \"batch_size_train\": 64,\n",
    "    \"batch_size_test\": 1000,\n",
    "    \"optimizer\": \"zo_sgd\",\n",
    "    \"learning_rate\": 2e-3,\n",
    "    \"momentum\": 0,\n",
    "    \"dampening\": 0,\n",
    "    \"fd_eps\": 1e-2,\n",
    "    \"use_true_grad\": False,\n",
    "    \"scheduler\": False,\n",
    "    \"decay_at_epochs\": [50],\n",
    "    \"decay_with_factor\": 10\n",
    "}"
   ]
  },
  {
   "cell_type": "code",
   "execution_count": null,
   "id": "e08372b9",
   "metadata": {
    "scrolled": true
   },
   "outputs": [],
   "source": [
    "LR = [1e-2, 1e-3, 1e-4]\n",
    "MOMENTUM = [0.9, 0.99]\n",
    "OPTIM = [\"fo_sgd\"]\n",
    "best_acc = 0\n",
    "for optim in OPTIM:\n",
    "    for lr in LR:\n",
    "        for momentum in MOMENTUM:\n",
    "            print(\"learning_rate={}, momentum={}, optimizer={}\".format(lr, momentum, optim))\n",
    "            print(\"__\"*20)\n",
    "            config[\"learning_rate\"], config[\"momentum\"], config[\"optimizer\"] = lr, momentum, optim\n",
    "            acc = main(config)\n",
    "            if acc > best_acc:\n",
    "                best_config = config"
   ]
  },
  {
   "cell_type": "code",
   "execution_count": null,
   "id": "876198cc",
   "metadata": {},
   "outputs": [],
   "source": [
    "LR = [1e-2, 1e-3, 1e-4]\n",
    "OPTIM = [\"fo_sign_sgd\"]\n",
    "best_acc = 0\n",
    "for optim in OPTIM:\n",
    "    for lr in LR:\n",
    "        print(\"learning_rate={}, optimizer={}\".format(lr, optim))\n",
    "        print(\"__\"*20)\n",
    "        config[\"learning_rate\"], config[\"optimizer\"] = lr, optim\n",
    "        acc = main(config)\n",
    "        if acc > best_acc:\n",
    "            best_config = config"
   ]
  },
  {
   "cell_type": "code",
   "execution_count": null,
   "id": "c99be488",
   "metadata": {
    "scrolled": true
   },
   "outputs": [],
   "source": [
    "LR = [1e-2, 1e-3, 1e-4]\n",
    "FD_EPS = [1e-2, 5e-3, 1e-3]\n",
    "OPTIM = [\"zo_sgd\", \"zo_sign_sgd\"]\n",
    "best_acc = 0\n",
    "for optim in OPTIM:\n",
    "    for lr in LR:\n",
    "        for fd_eps in FD_EPS:\n",
    "            print(\"learning_rate={}, fd_eps={}, optimizer={}\".format(lr, fd_eps, optim))\n",
    "            print(\"__\"*20)\n",
    "            config[\"learning_rate\"], config[\"fd_eps\"], config[\"optimizer\"] = lr, fd_eps, optim\n",
    "            acc = main(config)\n",
    "            if acc > best_acc:\n",
    "                best_config = config"
   ]
  },
  {
   "cell_type": "code",
   "execution_count": null,
   "id": "f9c34ceb",
   "metadata": {
    "scrolled": true
   },
   "outputs": [],
   "source": []
  }
 ],
 "metadata": {
  "kernelspec": {
   "display_name": "Python 3 (ipykernel)",
   "language": "python",
   "name": "python3"
  },
  "language_info": {
   "codemirror_mode": {
    "name": "ipython",
    "version": 3
   },
   "file_extension": ".py",
   "mimetype": "text/x-python",
   "name": "python",
   "nbconvert_exporter": "python",
   "pygments_lexer": "ipython3",
   "version": "3.9.16"
  }
 },
 "nbformat": 4,
 "nbformat_minor": 5
}
