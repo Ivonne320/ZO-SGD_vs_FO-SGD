{
 "cells": [
  {
   "cell_type": "code",
   "execution_count": 1,
   "id": "526c1872",
   "metadata": {},
   "outputs": [],
   "source": [
    "from train import *"
   ]
  },
  {
   "cell_type": "code",
   "execution_count": 2,
   "id": "93795251",
   "metadata": {},
   "outputs": [],
   "source": [
    "# An example of experiment configuration\n",
    "\n",
    "config = {\n",
    "    \"seed\": 42,\n",
    "    \"model\": \"mynet\",\n",
    "    \"num_epochs\": 100,\n",
    "    \"batch_size_train\": 64,\n",
    "    \"batch_size_test\": 1000,\n",
    "    \"optimizer\": \"zo_sgd\",\n",
    "    \"learning_rate\": 2e-3,\n",
    "    \"momentum\": 0,\n",
    "    \"dampening\": 0,\n",
    "    \"fd_eps\": 1e-2,\n",
    "    \"use_true_grad\": False,\n",
    "    \"scheduler\": False,\n",
    "    \"decay_at_epochs\": [50],\n",
    "    \"decay_with_factor\": 10\n",
    "}"
   ]
  },
  {
   "cell_type": "code",
   "execution_count": 3,
   "id": "3d15d231",
   "metadata": {},
   "outputs": [
    {
     "ename": "TypeError",
     "evalue": "MyNet.__init__() got an unexpected keyword argument 'num_classes'",
     "output_type": "error",
     "traceback": [
      "\u001b[1;31m---------------------------------------------------------------------------\u001b[0m",
      "\u001b[1;31mTypeError\u001b[0m                                 Traceback (most recent call last)",
      "Cell \u001b[1;32mIn[3], line 1\u001b[0m\n\u001b[1;32m----> 1\u001b[0m main(config)\n",
      "File \u001b[1;32md:\\epfl_courseproject\\ZO-SGD_vs_FO-SGD\\train.py:173\u001b[0m, in \u001b[0;36mmain\u001b[1;34m(config)\u001b[0m\n\u001b[0;32m    171\u001b[0m inputs, labels \u001b[39m=\u001b[39m \u001b[39mnext\u001b[39m(\u001b[39miter\u001b[39m(training_loader))\n\u001b[0;32m    172\u001b[0m inputs, labels \u001b[39m=\u001b[39m inputs\u001b[39m.\u001b[39mto(device), labels\u001b[39m.\u001b[39mto(device)\n\u001b[1;32m--> 173\u001b[0m model \u001b[39m=\u001b[39m get_model(device, config)\n\u001b[0;32m    174\u001b[0m \u001b[39m# criterion = torch.nn.BCELoss() # [TODO] maybe use CrossEntropyLoss\u001b[39;00m\n\u001b[0;32m    175\u001b[0m criterion \u001b[39m=\u001b[39m torch\u001b[39m.\u001b[39mnn\u001b[39m.\u001b[39mCrossEntropyLoss()\n",
      "File \u001b[1;32md:\\epfl_courseproject\\ZO-SGD_vs_FO-SGD\\train.py:114\u001b[0m, in \u001b[0;36mget_model\u001b[1;34m(device, config)\u001b[0m\n\u001b[0;32m    109\u001b[0m \u001b[39mdef\u001b[39;00m \u001b[39mget_model\u001b[39m(device, config):\n\u001b[0;32m    110\u001b[0m \u001b[39m    \u001b[39m\u001b[39m\"\"\"\u001b[39;00m\n\u001b[0;32m    111\u001b[0m \u001b[39m    :param device: instance of torch.device\u001b[39;00m\n\u001b[0;32m    112\u001b[0m \u001b[39m    :return: An instance of torch.nn.Module\u001b[39;00m\n\u001b[0;32m    113\u001b[0m \u001b[39m    \"\"\"\u001b[39;00m\n\u001b[1;32m--> 114\u001b[0m     model \u001b[39m=\u001b[39m {\n\u001b[0;32m    115\u001b[0m         \u001b[39m\"\u001b[39;49m\u001b[39mmynet\u001b[39;49m\u001b[39m\"\u001b[39;49m: \u001b[39mlambda\u001b[39;49;00m: MyNet(num_classes\u001b[39m=\u001b[39;49m\u001b[39m10\u001b[39;49m)\n\u001b[0;32m    116\u001b[0m     }[config[\u001b[39m\"\u001b[39;49m\u001b[39mmodel\u001b[39;49m\u001b[39m\"\u001b[39;49m]]()\n\u001b[0;32m    118\u001b[0m     model\u001b[39m.\u001b[39mto(device)\n\u001b[0;32m    119\u001b[0m     \u001b[39mif\u001b[39;00m device \u001b[39m==\u001b[39m \u001b[39m\"\u001b[39m\u001b[39mcuda:0\u001b[39m\u001b[39m\"\u001b[39m:\n",
      "File \u001b[1;32md:\\epfl_courseproject\\ZO-SGD_vs_FO-SGD\\train.py:115\u001b[0m, in \u001b[0;36mget_model.<locals>.<lambda>\u001b[1;34m()\u001b[0m\n\u001b[0;32m    109\u001b[0m \u001b[39mdef\u001b[39;00m \u001b[39mget_model\u001b[39m(device, config):\n\u001b[0;32m    110\u001b[0m \u001b[39m    \u001b[39m\u001b[39m\"\"\"\u001b[39;00m\n\u001b[0;32m    111\u001b[0m \u001b[39m    :param device: instance of torch.device\u001b[39;00m\n\u001b[0;32m    112\u001b[0m \u001b[39m    :return: An instance of torch.nn.Module\u001b[39;00m\n\u001b[0;32m    113\u001b[0m \u001b[39m    \"\"\"\u001b[39;00m\n\u001b[0;32m    114\u001b[0m     model \u001b[39m=\u001b[39m {\n\u001b[1;32m--> 115\u001b[0m         \u001b[39m\"\u001b[39m\u001b[39mmynet\u001b[39m\u001b[39m\"\u001b[39m: \u001b[39mlambda\u001b[39;00m: MyNet(num_classes\u001b[39m=\u001b[39;49m\u001b[39m10\u001b[39;49m)\n\u001b[0;32m    116\u001b[0m     }[config[\u001b[39m\"\u001b[39m\u001b[39mmodel\u001b[39m\u001b[39m\"\u001b[39m]]()\n\u001b[0;32m    118\u001b[0m     model\u001b[39m.\u001b[39mto(device)\n\u001b[0;32m    119\u001b[0m     \u001b[39mif\u001b[39;00m device \u001b[39m==\u001b[39m \u001b[39m\"\u001b[39m\u001b[39mcuda:0\u001b[39m\u001b[39m\"\u001b[39m:\n",
      "File \u001b[1;32md:\\epfl_courseproject\\ZO-SGD_vs_FO-SGD\\.venv\\lib\\site-packages\\torch\\nn\\modules\\module.py:445\u001b[0m, in \u001b[0;36mModule.__init__\u001b[1;34m(self, *args, **kwargs)\u001b[0m\n\u001b[0;32m    443\u001b[0m \u001b[39m# Backward compatibility: no args used to be allowed when call_super_init=False\u001b[39;00m\n\u001b[0;32m    444\u001b[0m \u001b[39mif\u001b[39;00m \u001b[39mself\u001b[39m\u001b[39m.\u001b[39mcall_super_init \u001b[39mis\u001b[39;00m \u001b[39mFalse\u001b[39;00m \u001b[39mand\u001b[39;00m \u001b[39mbool\u001b[39m(kwargs):\n\u001b[1;32m--> 445\u001b[0m     \u001b[39mraise\u001b[39;00m \u001b[39mTypeError\u001b[39;00m(\u001b[39m\"\u001b[39m\u001b[39m{}\u001b[39;00m\u001b[39m.__init__() got an unexpected keyword argument \u001b[39m\u001b[39m'\u001b[39m\u001b[39m{}\u001b[39;00m\u001b[39m'\u001b[39m\u001b[39m\"\u001b[39m\n\u001b[0;32m    446\u001b[0m                     \u001b[39m\"\u001b[39m\u001b[39m\"\u001b[39m\u001b[39m.\u001b[39mformat(\u001b[39mtype\u001b[39m(\u001b[39mself\u001b[39m)\u001b[39m.\u001b[39m\u001b[39m__name__\u001b[39m, \u001b[39mnext\u001b[39m(\u001b[39miter\u001b[39m(kwargs))))\n\u001b[0;32m    448\u001b[0m \u001b[39mif\u001b[39;00m \u001b[39mself\u001b[39m\u001b[39m.\u001b[39mcall_super_init \u001b[39mis\u001b[39;00m \u001b[39mFalse\u001b[39;00m \u001b[39mand\u001b[39;00m \u001b[39mbool\u001b[39m(args):\n\u001b[0;32m    449\u001b[0m     \u001b[39mraise\u001b[39;00m \u001b[39mTypeError\u001b[39;00m(\u001b[39m\"\u001b[39m\u001b[39m{}\u001b[39;00m\u001b[39m.__init__() takes 1 positional argument but \u001b[39m\u001b[39m{}\u001b[39;00m\u001b[39m were\u001b[39m\u001b[39m\"\u001b[39m\n\u001b[0;32m    450\u001b[0m                     \u001b[39m\"\u001b[39m\u001b[39m given\u001b[39m\u001b[39m\"\u001b[39m\u001b[39m.\u001b[39mformat(\u001b[39mtype\u001b[39m(\u001b[39mself\u001b[39m)\u001b[39m.\u001b[39m\u001b[39m__name__\u001b[39m, \u001b[39mlen\u001b[39m(args) \u001b[39m+\u001b[39m \u001b[39m1\u001b[39m))\n",
      "\u001b[1;31mTypeError\u001b[0m: MyNet.__init__() got an unexpected keyword argument 'num_classes'"
     ]
    }
   ],
   "source": [
    "main(config)"
   ]
  },
  {
   "cell_type": "code",
   "execution_count": null,
   "id": "e08372b9",
   "metadata": {},
   "outputs": [],
   "source": []
  }
 ],
 "metadata": {
  "kernelspec": {
   "display_name": "Python 3 (ipykernel)",
   "language": "python",
   "name": "python3"
  },
  "language_info": {
   "codemirror_mode": {
    "name": "ipython",
    "version": 3
   },
   "file_extension": ".py",
   "mimetype": "text/x-python",
   "name": "python",
   "nbconvert_exporter": "python",
   "pygments_lexer": "ipython3",
   "version": "3.10.11"
  }
 },
 "nbformat": 4,
 "nbformat_minor": 5
}
